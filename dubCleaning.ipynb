{
 "cells": [
  {
   "cell_type": "code",
   "execution_count": 1,
   "metadata": {},
   "outputs": [
    {
     "name": "stderr",
     "output_type": "stream",
     "text": [
      "[nltk_data] Downloading package stopwords to\n",
      "[nltk_data]     C:\\Users\\Etudiant\\AppData\\Roaming\\nltk_data...\n",
      "[nltk_data]   Package stopwords is already up-to-date!\n"
     ]
    },
    {
     "name": "stdout",
     "output_type": "stream",
     "text": [
      "Erreur: ./subs\\blade\\blades01VF.zip n'est pas un fichier zip fonctionnel.\n",
      "Erreur: ./subs\\entourage\\entouragesallVF\\Entourage.502.VO.VF.zip n'est pas un fichier zip fonctionnel.\n",
      "Erreur: ./subs\\entourage\\entouragesallVO\\Entourage.502.VO.VF.zip n'est pas un fichier zip fonctionnel.\n",
      "Erreur: ./subs\\prisonbreak\\prisonbreaks01VO.zip n'est pas un fichier zip fonctionnel.\n",
      "Erreur: ./subs\\robinhood\\robinhoods01s02VO\\Robin.Hood.S1.DVDRip.VO.zip n'est pas un fichier zip fonctionnel.\n",
      "Erreur: ./subs\\xfiles\\xfiless01VF.zip n'est pas un fichier zip fonctionnel.\n",
      "Erreur: ./subs\\xfiles\\xfiless03VF.zip n'est pas un fichier zip fonctionnel.\n"
     ]
    }
   ],
   "source": [
    "import os\n",
    "import re\n",
    "import nltk\n",
    "import shutil\n",
    "from nltk.corpus import stopwords\n",
    "from zipfile import ZipFile, BadZipFile\n",
    "\n",
    "# Télécharger les stopwords une fois\n",
    "nltk.download('stopwords')\n",
    "\n",
    "# Obtenir les stopwords en français et anglais\n",
    "stop_words_fr = set(stopwords.words('french'))\n",
    "stop_words_en = set(stopwords.words('english'))\n",
    "\n",
    "def clean_srt(input_file, output_file, encoding='utf-8'):\n",
    "    try:\n",
    "        with open(input_file, 'r', encoding=encoding) as file:\n",
    "            lines = file.readlines()\n",
    "        \n",
    "        cleaned_lines = []\n",
    "        \n",
    "        for line in lines:\n",
    "            if not line.strip().isdigit() and '-->' not in line:\n",
    "                words = line.strip().split()\n",
    "                filtered_words = [word for word in words if word.lower() not in stop_words_fr and word.lower() not in stop_words_en]\n",
    "                cleaned_lines.append(' '.join(filtered_words))\n",
    "        \n",
    "        with open(output_file, 'w', encoding=encoding) as file:\n",
    "            file.write('\\n'.join(cleaned_lines))\n",
    "    except UnicodeDecodeError:\n",
    "        print(f\"Erreur de décodage avec l'encodage {encoding}. Essayez un autre encodage.\")\n",
    "\n",
    "def extract_archive(archive_path, extract_to):\n",
    "    if archive_path.endswith('.zip'):\n",
    "        try:\n",
    "            with ZipFile(archive_path, 'r') as zip_ref:\n",
    "                zip_ref.extractall(extract_to)\n",
    "        except BadZipFile:\n",
    "            print(f\"Erreur: {archive_path} n'est pas un fichier zip fonctionnel.\")\n",
    "    # Ajouter d'autres formats d'archive si nécessaire\n",
    "\n",
    "def process_all_srt_files(root_folder, encoding='utf-8'):\n",
    "    for subdir, _, files in os.walk(root_folder):\n",
    "        for file in files:\n",
    "            file_path = os.path.join(subdir, file)\n",
    "            if file.endswith('.srt'):\n",
    "                input_file = file_path\n",
    "                output_file = os.path.join(subdir, file.replace('.srt', '_cleaned.txt'))\n",
    "                clean_srt(input_file, output_file, encoding)\n",
    "            elif file.endswith('.zip'):\n",
    "                extract_to = os.path.join(subdir, file.replace('.zip', ''))\n",
    "                os.makedirs(extract_to, exist_ok=True)\n",
    "                extract_archive(file_path, extract_to)\n",
    "                process_all_srt_files(extract_to, encoding)\n",
    "\n",
    "# Utilisation de la fonction pour traiter tous les fichiers .srt dans le dossier racine\n",
    "root_folder = './subs'\n",
    "process_all_srt_files(root_folder, encoding='latin1')"
   ]
  },
  {
   "cell_type": "code",
   "execution_count": 4,
   "metadata": {},
   "outputs": [],
   "source": [
    "# Supprime les fichiers .srt, .zip et les dossiers vides\n",
    "def delete_srt_files_and_empty_dirs(root_folder):\n",
    "    # Parcourir tous les fichiers et dossiers à partir du dossier racine\n",
    "    for subdir, _, files in os.walk(root_folder):\n",
    "        for file in files:\n",
    "            file_path = os.path.join(subdir, file)\n",
    "            if file.endswith('.srt') or file.endswith('.zip'):\n",
    "                try:\n",
    "                    os.remove(file_path)  # Supprimer le fichier .srt ou .zip\n",
    "                except PermissionError:\n",
    "                    print(f\"Erreur de permission: Impossible de supprimer {file_path}\")\n",
    "\n",
    "    # Supprimer les dossiers vides\n",
    "    for subdir, dirs, _ in os.walk(root_folder, topdown=False):\n",
    "        for dir in dirs:\n",
    "            dir_path = os.path.join(subdir, dir)\n",
    "            try:\n",
    "                os.rmdir(dir_path)  # Supprimer le dossier s'il est vide\n",
    "            except OSError:\n",
    "                pass  # Ignorer l'erreur si le dossier n'est pas vide\n",
    "\n",
    "# Utilisation de la fonction pour supprimer les fichiers .srt, .zip et les dossiers vides dans le dossier racine\n",
    "root_folder = './subs'  # Remplacez par le chemin de votre dossier racine\n",
    "delete_srt_files_and_empty_dirs(root_folder)"
   ]
  }
 ],
 "metadata": {
  "kernelspec": {
   "display_name": "base",
   "language": "python",
   "name": "python3"
  },
  "language_info": {
   "codemirror_mode": {
    "name": "ipython",
    "version": 3
   },
   "file_extension": ".py",
   "mimetype": "text/x-python",
   "name": "python",
   "nbconvert_exporter": "python",
   "pygments_lexer": "ipython3",
   "version": "3.11.5"
  }
 },
 "nbformat": 4,
 "nbformat_minor": 2
}
